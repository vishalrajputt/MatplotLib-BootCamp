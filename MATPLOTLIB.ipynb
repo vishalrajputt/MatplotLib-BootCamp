{
 "cells":[
  {
   "cell_type":"code",
   "source":[
    "pip install matplotlib"
   ],
   "execution_count":4,
   "outputs":[
    {
     "name":"stdout",
     "text":[
      "Requirement already satisfied: matplotlib in \/opt\/python\/envs\/default\/lib\/python3.8\/site-packages (3.5.1)\r\n",
      "Requirement already satisfied: numpy>=1.17 in \/opt\/python\/envs\/default\/lib\/python3.8\/site-packages (from matplotlib) (1.21.5)\r\n",
      "Requirement already satisfied: pyparsing>=2.2.1 in \/opt\/python\/envs\/default\/lib\/python3.8\/site-packages (from matplotlib) (3.0.9)\r\n",
      "Requirement already satisfied: python-dateutil>=2.7 in \/opt\/python\/envs\/default\/lib\/python3.8\/site-packages (from matplotlib) (2.8.2)\r\n",
      "Requirement already satisfied: packaging>=20.0 in \/opt\/python\/envs\/default\/lib\/python3.8\/site-packages (from matplotlib) (23.0)\r\n",
      "Requirement already satisfied: kiwisolver>=1.0.1 in \/opt\/python\/envs\/default\/lib\/python3.8\/site-packages (from matplotlib) (1.4.4)\r\n",
      "Requirement already satisfied: cycler>=0.10 in \/opt\/python\/envs\/default\/lib\/python3.8\/site-packages (from matplotlib) (0.11.0)\r\n",
      "Requirement already satisfied: fonttools>=4.22.0 in \/opt\/python\/envs\/default\/lib\/python3.8\/site-packages (from matplotlib) (4.38.0)\r\n",
      "Requirement already satisfied: pillow>=6.2.0 in \/opt\/python\/envs\/default\/lib\/python3.8\/site-packages (from matplotlib) (9.4.0)\r\n",
      "Requirement already satisfied: six>=1.5 in \/opt\/python\/envs\/default\/lib\/python3.8\/site-packages (from python-dateutil>=2.7->matplotlib) (1.16.0)\r\n",
      "\u001b[33mWARNING: You are using pip version 21.3.1; however, version 22.3.1 is available.\r\n",
      "You should consider upgrading via the '\/opt\/python\/envs\/default\/bin\/python -m pip install --upgrade pip' command.\u001b[0m\r\n",
      "Note: you may need to restart the kernel to use updated packages.\n"
     ],
     "output_type":"stream"
    }
   ],
   "metadata":{
    "datalore":{
     "node_id":"VPwXfjUFzIrUV4h69UdUQS",
     "type":"CODE",
     "hide_input_from_viewers":false,
     "hide_output_from_viewers":false
    }
   }
  },
  {
   "cell_type":"code",
   "source":[
    "import matplotlib as mlp\n",
    "import matplotlib.pyplot as plt\n",
    "import numpy as np\n",
    "import pandas as pd"
   ],
   "execution_count":3,
   "outputs":[
    
   ],
   "metadata":{
    "datalore":{
     "node_id":"1pPuk07YlYgxnJ0Wlmm0pI",
     "type":"CODE",
     "hide_input_from_viewers":false,
     "hide_output_from_viewers":false
    }
   }
  },
  {
   "cell_type":"markdown",
   "source":[
    "**`linear graph`** using MATPLOTLIB"
   ],
   "attachments":{
    
   },
   "metadata":{
    "datalore":{
     "node_id":"cLvmIhRvXUl1AZCcqiloeq",
     "type":"MD",
     "hide_input_from_viewers":false,
     "hide_output_from_viewers":false
    }
   }
  },
  {
   "cell_type":"code",
   "source":[
    "plt.show() # Use this to show the graph if your are not using jupyter"
   ],
   "execution_count":9,
   "outputs":[
    
   ],
   "metadata":{
    "datalore":{
     "node_id":"pWt5uZLAAa3NGzSR6G6DKU",
     "type":"CODE",
     "hide_input_from_viewers":false,
     "hide_output_from_viewers":false
    }
   }
  },
  {
   "cell_type":"code",
   "source":[
    "%matplotlib inline \n",
    "#we have to use this in jupyter in order to view the graphs"
   ],
   "execution_count":13,
   "outputs":[
    
   ],
   "metadata":{
    "datalore":{
     "node_id":"ySfEcduic1sL29z8v7Q1vo",
     "type":"CODE",
     "hide_input_from_viewers":false,
     "hide_output_from_viewers":false
    }
   }
  },
  {
   "cell_type":"code",
   "source":[
    "x= np.linspace(0,6,9)\n",
    "x"
   ],
   "execution_count":15,
   "outputs":[
    {
     "data":{
      "text\/html":[
       "<pre>array([0.  , 0.75, 1.5 , 2.25, 3.  , 3.75, 4.5 , 5.25, 6.  ])<\/pre>"
      ]
     },
     "metadata":{
      
     },
     "output_type":"display_data"
    }
   ],
   "metadata":{
    "datalore":{
     "node_id":"BRZ4wXYrwJApgFTgGO9BH0",
     "type":"CODE",
     "hide_input_from_viewers":false,
     "hide_output_from_viewers":false
    }
   }
  },
  {
   "cell_type":"code",
   "source":[
    "y= np.linspace(3,9,9)\n",
    "y"
   ],
   "execution_count":17,
   "outputs":[
    {
     "data":{
      "text\/html":[
       "<pre>array([3.  , 3.75, 4.5 , 5.25, 6.  , 6.75, 7.5 , 8.25, 9.  ])<\/pre>"
      ]
     },
     "metadata":{
      
     },
     "output_type":"display_data"
    }
   ],
   "metadata":{
    "datalore":{
     "node_id":"8RCLD4aZz2Tdk3pFSrAe3b",
     "type":"CODE",
     "hide_input_from_viewers":false,
     "hide_output_from_viewers":false
    }
   }
  },
  {
   "cell_type":"code",
   "source":[
    "plt.plot(x,y)"
   ],
   "execution_count":18,
   "outputs":[
    {
     "data":{
      "text\/plain":[
       "[<matplotlib.lines.Line2D at 0x7f36b4b95a30>]"
      ]
     },
     "metadata":{
      
     },
     "output_type":"display_data"
    },
    {
     "data":{
      "image\/png":"[encoded data removed]"
     },
     "metadata":{
      "image\/png":{
       
      }
     },
     "output_type":"display_data"
    }
   ],
   "metadata":{
    "datalore":{
     "node_id":"q0xUPTR3dOX1xkYUZkQOHr",
     "type":"CODE",
     "hide_input_from_viewers":false,
     "hide_output_from_viewers":false
    }
   }
  },
  {
   "cell_type":"code",
   "source":[
    "y=x**3"
   ],
   "execution_count":19,
   "outputs":[
    
   ],
   "metadata":{
    "datalore":{
     "node_id":"uWC1hPPtm9cWGau1vp8SiP",
     "type":"CODE",
     "hide_input_from_viewers":false,
     "hide_output_from_viewers":false
    }
   }
  },
  {
   "cell_type":"code",
   "source":[
    "plt.plot(x,y)\n",
    "plt.xlabel(\"This is x asix\")\n",
    "plt.ylabel(\"This is y asix\")\n",
    "plt.title(\"Random Plot\")"
   ],
   "execution_count":22,
   "outputs":[
    {
     "data":{
      "text\/plain":[
       "Text(0.5, 1.0, 'Random Plot')"
      ]
     },
     "metadata":{
      
     },
     "output_type":"display_data"
    },
    {
     "data":{
      "image\/png":"[encoded data removed]"
     },
     "metadata":{
      "image\/png":{
       
      }
     },
     "output_type":"display_data"
    }
   ],
   "metadata":{
    "datalore":{
     "node_id":"MnvB24hFDusZ4dzZnxrlV5",
     "type":"CODE",
     "hide_input_from_viewers":false,
     "hide_output_from_viewers":false
    }
   }
  },
  {
   "cell_type":"markdown",
   "source":[
    
   ],
   "attachments":{
    
   },
   "metadata":{
    "datalore":{
     "node_id":"t45HlUH4Jtm6zs3c7OYUFc",
     "type":"MD",
     "hide_input_from_viewers":false,
     "hide_output_from_viewers":false
    }
   }
  },
  {
   "cell_type":"markdown",
   "source":[
    "Plotting **`Histograms`** in matplotlib"
   ],
   "attachments":{
    
   },
   "metadata":{
    "datalore":{
     "node_id":"pwQSxt1x4Vg09Ly8akXc55",
     "type":"MD",
     "hide_input_from_viewers":false,
     "hide_output_from_viewers":false
    }
   }
  },
  {
   "cell_type":"code",
   "source":[
    "plt.plot([1,2,3,4,5],[6,7,8,9,10],label='Population') \n",
    "plt.plot([1,2,3,4,5],[2,4,6,8,10],label='Consumption')\n",
    "plt.xlabel(\"This is x asix\")\n",
    "plt.ylabel(\"This is y asix\")\n",
    "plt.title(\"Random Plot\")\n",
    "plt.legend()"
   ],
   "execution_count":24,
   "outputs":[
    {
     "data":{
      "text\/plain":[
       "<matplotlib.legend.Legend at 0x7f36b4695820>"
      ]
     },
     "metadata":{
      
     },
     "output_type":"display_data"
    },
    {
     "data":{
      "image\/png":"[encoded data removed]"
     },
     "metadata":{
      "image\/png":{
       
      }
     },
     "output_type":"display_data"
    }
   ],
   "metadata":{
    "datalore":{
     "node_id":"J8GdwrCqEyWB6CpfBrMs3z",
     "type":"CODE",
     "hide_input_from_viewers":false,
     "hide_output_from_viewers":false
    }
   }
  },
  {
   "cell_type":"markdown",
   "source":[
    "In order to **`identify`** the array in plot we have used **`label`** in both array.\n",
    "**`plt.legend()`** A legend is an area describing the elements of the graph. In the matplotlib library, there’s a function called legend() which is used to Place a legend on the axes. "
   ],
   "attachments":{
    
   },
   "metadata":{
    "datalore":{
     "node_id":"CTglPPjUINsBzlINl7PAsq",
     "type":"MD",
     "hide_input_from_viewers":false,
     "hide_output_from_viewers":false
    }
   }
  },
  {
   "cell_type":"code",
   "source":[
    "plt.bar([1,2,3,4,5],[6,7,8,9,10],label='Movies') \n",
    "plt.xlabel(\"This is x asix for Bar\")\n",
    "plt.ylabel(\"This is y asix for Bar\")\n",
    "plt.title(\"Random Plot for Bar chart\")\n",
    "plt.legend()           "
   ],
   "execution_count":28,
   "outputs":[
    {
     "data":{
      "text\/plain":[
       "<matplotlib.legend.Legend at 0x7f36b4571f10>"
      ]
     },
     "metadata":{
      
     },
     "output_type":"display_data"
    },
    {
     "data":{
      "image\/png":"[encoded data removed]"
     },
     "metadata":{
      "image\/png":{
       
      }
     },
     "output_type":"display_data"
    }
   ],
   "metadata":{
    "datalore":{
     "node_id":"rDYR5NPfBQGkc9idVAm1xa",
     "type":"CODE",
     "hide_input_from_viewers":false,
     "hide_output_from_viewers":false
    }
   }
  },
  {
   "cell_type":"code",
   "source":[
    "peerPerProduct = [1,5,8,6,2,4,5,1,7,3,8,3,5,2,8,5,8,3,2,6,1]"
   ],
   "execution_count":29,
   "outputs":[
    
   ],
   "metadata":{
    "datalore":{
     "node_id":"1MN3DtvGmCVEa2uU4qqfpB",
     "type":"CODE",
     "hide_input_from_viewers":false,
     "hide_output_from_viewers":false
    }
   }
  },
  {
   "cell_type":"code",
   "source":[
    "bins = [1,2,3,4,5,6,7,8,9] "
   ],
   "execution_count":30,
   "outputs":[
    
   ],
   "metadata":{
    "datalore":{
     "node_id":"czvm3K5qDJ4Drffyk2TPeq",
     "type":"CODE",
     "hide_input_from_viewers":false,
     "hide_output_from_viewers":false
    }
   }
  },
  {
   "cell_type":"markdown",
   "source":[
    "**`Bins`** are the **`number of intervals`** you want to divide all of your data into, such that it can be displayed as bars on a **`histogram`**"
   ],
   "attachments":{
    
   },
   "metadata":{
    "datalore":{
     "node_id":"43iLBLnDg8OtvXHflxuXvv",
     "type":"MD",
     "hide_input_from_viewers":false,
     "hide_output_from_viewers":false
    }
   }
  },
  {
   "cell_type":"code",
   "source":[
    "plt.hist(peerPerProduct,bins,histtype='bar',rwidth=0.5)"
   ],
   "execution_count":34,
   "outputs":[
    {
     "data":{
      "text\/plain":[
       "(array([3., 3., 3., 1., 4., 2., 1., 4.]),\n",
       " array([1, 2, 3, 4, 5, 6, 7, 8, 9]),\n",
       " <BarContainer object of 8 artists>)"
      ]
     },
     "metadata":{
      
     },
     "output_type":"display_data"
    },
    {
     "data":{
      "image\/png":"[encoded data removed]"
     },
     "metadata":{
      "image\/png":{
       
      }
     },
     "output_type":"display_data"
    }
   ],
   "metadata":{
    "datalore":{
     "node_id":"R50dNjIoYVGPesxYKQQDlP",
     "type":"CODE",
     "hide_input_from_viewers":false,
     "hide_output_from_viewers":false
    }
   }
  },
  {
   "cell_type":"markdown",
   "source":[
    "**`histtype`** parameter is an optional parameter and it is used to draw type of histogram. **`{'bar', 'barstacked', 'step', 'stepfilled'}`**"
   ],
   "attachments":{
    
   },
   "metadata":{
    "datalore":{
     "node_id":"g6fYLH9pbkxp4aGHEb7vsp",
     "type":"MD",
     "hide_input_from_viewers":false,
     "hide_output_from_viewers":false
    }
   }
  },
  {
   "cell_type":"markdown",
   "source":[
    "**`rwidth`** This parameter is an optional parameter and it is a relative width of the bars as a fraction of the bin width."
   ],
   "attachments":{
    
   },
   "metadata":{
    "datalore":{
     "node_id":"BQwKsi66gaRESVdPwBWtKh",
     "type":"MD",
     "hide_input_from_viewers":false,
     "hide_output_from_viewers":false
    }
   }
  },
  {
   "cell_type":"markdown",
   "source":[
    "This above graph is showing the **`freq of the number`** present in the array provided using **`Histogram`**"
   ],
   "attachments":{
    
   },
   "metadata":{
    "datalore":{
     "node_id":"xGTka60vQoJCUI4vvaI95d",
     "type":"MD",
     "hide_input_from_viewers":false,
     "hide_output_from_viewers":false
    }
   }
  },
  {
   "cell_type":"code",
   "source":[
    "plt.hist(peerPerProduct,bins,histtype='bar',rwidth=0.2)  #rwidth has been chnaged here"
   ],
   "execution_count":36,
   "outputs":[
    {
     "data":{
      "text\/plain":[
       "(array([3., 3., 3., 1., 4., 2., 1., 4.]),\n",
       " array([1, 2, 3, 4, 5, 6, 7, 8, 9]),\n",
       " <BarContainer object of 8 artists>)"
      ]
     },
     "metadata":{
      
     },
     "output_type":"display_data"
    },
    {
     "data":{
      "image\/png":"[encoded data removed]"
     },
     "metadata":{
      "image\/png":{
       
      }
     },
     "output_type":"display_data"
    }
   ],
   "metadata":{
    "datalore":{
     "node_id":"8pfncTVYKMsAaCgrn8kxrc",
     "type":"CODE",
     "hide_input_from_viewers":false,
     "hide_output_from_viewers":false
    }
   }
  },
  {
   "cell_type":"code",
   "source":[
    "plt.hist(peerPerProduct,bins,histtype='bar',rwidth=0.6)\n",
    "plt.xlabel('X_Bar')\n",
    "plt.ylabel('Y_Bar')\n",
    "plt.title('Bar_chart\/Histogram')"
   ],
   "execution_count":42,
   "outputs":[
    {
     "data":{
      "text\/plain":[
       "Text(0.5, 1.0, 'Bar_chart\/Histogram')"
      ]
     },
     "metadata":{
      
     },
     "output_type":"display_data"
    },
    {
     "data":{
      "image\/png":"[encoded data removed]"
     },
     "metadata":{
      "image\/png":{
       
      }
     },
     "output_type":"display_data"
    }
   ],
   "metadata":{
    "datalore":{
     "node_id":"LL3AJRzEf8dyXwyhv1H3KN",
     "type":"CODE",
     "hide_input_from_viewers":false,
     "hide_output_from_viewers":false
    }
   }
  },
  {
   "cell_type":"markdown",
   "source":[
    
   ],
   "attachments":{
    
   },
   "metadata":{
    "datalore":{
     "node_id":"bBmEMY7jPWlpZaxAy1laft",
     "type":"MD",
     "hide_input_from_viewers":false,
     "hide_output_from_viewers":false
    }
   }
  },
  {
   "cell_type":"markdown",
   "source":[
    "Plotting ads data with **`stackplot`**"
   ],
   "attachments":{
    
   },
   "metadata":{
    "datalore":{
     "node_id":"NZqCeWoEDComXa7eAlFGz3",
     "type":"MD",
     "hide_input_from_viewers":false,
     "hide_output_from_viewers":false
    }
   }
  },
  {
   "cell_type":"code",
   "source":[
    "MyDays=[1,2,3,4,5]"
   ],
   "execution_count":43,
   "outputs":[
    
   ],
   "metadata":{
    "datalore":{
     "node_id":"LnBkYijTyJGgBk4mCWuyuv",
     "type":"CODE",
     "hide_input_from_viewers":false,
     "hide_output_from_viewers":false
    }
   }
  },
  {
   "cell_type":"code",
   "source":[
    "Organic=[8,9,8,3,3]\n",
    "ads=[8,9,7,12,8]\n",
    "affiliate=[3,5,5,4,3]\n",
    "seller=[9,5,8,9,14]"
   ],
   "execution_count":45,
   "outputs":[
    
   ],
   "metadata":{
    "datalore":{
     "node_id":"1kmFAuZ9Q3N0WYHRZq8Bdz",
     "type":"CODE",
     "hide_input_from_viewers":false,
     "hide_output_from_viewers":false
    }
   }
  },
  {
   "cell_type":"code",
   "source":[
    "plt.plot([],[],color='#45aaf2',label='organic')\n",
    "plt.plot([],[],color='#d1d8e0',label='ads')\n",
    "plt.plot([],[],color='#778ca3',label='affiliate')\n",
    "plt.plot([],[],color='#2bcbba',label='seller')\n",
    "plt.stackplot(MyDays,Organic,ads,affiliate,seller,colors=['#45aaf2','#d1d8e0','#778ca3','#2bcbba'])\n",
    "plt.xlabel(\"Number of Days\")\n",
    "plt.ylabel(\"Sales\")\n",
    "plt.legend()"
   ],
   "execution_count":48,
   "outputs":[
    {
     "data":{
      "text\/plain":[
       "<matplotlib.legend.Legend at 0x7f36add879a0>"
      ]
     },
     "metadata":{
      
     },
     "output_type":"display_data"
    },
    {
     "data":{
      "image\/png":"[encoded data removed]"
     },
     "metadata":{
      "image\/png":{
       
      }
     },
     "output_type":"display_data"
    }
   ],
   "metadata":{
    "datalore":{
     "node_id":"nKBiOryDTLdGeIqy2sPAUP",
     "type":"CODE",
     "hide_input_from_viewers":false,
     "hide_output_from_viewers":false
    }
   }
  },
  {
   "cell_type":"markdown",
   "source":[
    
   ],
   "attachments":{
    
   },
   "metadata":{
    "datalore":{
     "node_id":"cYPLP4p4P5J2fSwiDpdkxh",
     "type":"MD",
     "hide_input_from_viewers":false,
     "hide_output_from_viewers":false
    }
   }
  },
  {
   "cell_type":"markdown",
   "source":[
    "**`Pie chart`** for ads"
   ],
   "attachments":{
    
   },
   "metadata":{
    "datalore":{
     "node_id":"SMEhDWzCJEddF9sWwKIIdX",
     "type":"MD",
     "hide_input_from_viewers":false,
     "hide_output_from_viewers":false
    }
   }
  },
  {
   "cell_type":"code",
   "source":[
    "mypielabels = ['FB','Google','Linkdln','Instagram','Twitter']\n",
    "piecolors=['#45aaf2','#d1d8e0','#a29bfe','#2bcbba','#ffeaa7']"
   ],
   "execution_count":58,
   "outputs":[
    
   ],
   "metadata":{
    "datalore":{
     "node_id":"sbcdpcxdt6MzF6nzqAoeeF",
     "type":"CODE",
     "hide_input_from_viewers":false,
     "hide_output_from_viewers":false
    }
   }
  },
  {
   "cell_type":"code",
   "source":[
    "plt.pie(ads,labels=mypielabels,colors=piecolors,explode=(0,0.2,0,0,0))"
   ],
   "execution_count":60,
   "outputs":[
    {
     "data":{
      "text\/plain":[
       "([<matplotlib.patches.Wedge at 0x7f36ad803070>,\n",
       "  <matplotlib.patches.Wedge at 0x7f36ad803550>,\n",
       "  <matplotlib.patches.Wedge at 0x7f36ad803a30>,\n",
       "  <matplotlib.patches.Wedge at 0x7f36ad803f10>,\n",
       "  <matplotlib.patches.Wedge at 0x7f36ad8113d0>],\n",
       " [Text(0.9253788759906099, 0.5947049149539254, 'FB'),\n",
       "  Text(-0.2763349142612577, 1.2702909175303994, 'Google'),\n",
       "  Text(-1.0748615565486352, 0.2338218002108561, 'Linkdln'),\n",
       "  Text(-0.45695648023571767, -1.0005952104475537, 'Instagram'),\n",
       "  Text(0.9253789316708984, -0.5947048283136996, 'Twitter')])"
      ]
     },
     "metadata":{
      
     },
     "output_type":"display_data"
    },
    {
     "data":{
      "image\/png":"[encoded data removed]"
     },
     "metadata":{
      "image\/png":{
       
      }
     },
     "output_type":"display_data"
    }
   ],
   "metadata":{
    "datalore":{
     "node_id":"HgtKabtgTKWtRIodRa5gEc",
     "type":"CODE",
     "hide_input_from_viewers":false,
     "hide_output_from_viewers":false
    }
   }
  },
  {
   "cell_type":"markdown",
   "source":[
    "**`Explode`** to make the **`perticualr portition stand-Out = Google `**"
   ],
   "attachments":{
    
   },
   "metadata":{
    "datalore":{
     "node_id":"JWBq5cXHzA0QK1YDExojpi",
     "type":"MD",
     "hide_input_from_viewers":false,
     "hide_output_from_viewers":false
    }
   }
  },
  {
   "cell_type":"code",
   "source":[
    
   ],
   "execution_count":null,
   "outputs":[
    
   ],
   "metadata":{
    "datalore":{
     "node_id":"jtzfeZeJEnfVCFxaNp3zlX",
     "type":"CODE",
     "hide_input_from_viewers":false,
     "hide_output_from_viewers":false
    }
   }
  }
 ],
 "metadata":{
  "kernelspec":{
   "display_name":"Python",
   "language":"python",
   "name":"python"
  },
  "datalore":{
   "version":1,
   "computation_mode":"JUPYTER",
   "package_manager":"pip",
   "base_environment":"default",
   "packages":[
    
   ]
  }
 },
 "nbformat":4,
 "nbformat_minor":4
}